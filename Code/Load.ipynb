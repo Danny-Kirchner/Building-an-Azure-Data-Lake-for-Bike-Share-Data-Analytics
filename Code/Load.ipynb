{
 "cells": [
  {
   "cell_type": "code",
   "execution_count": 0,
   "metadata": {
    "application/vnd.databricks.v1+cell": {
     "cellMetadata": {
      "byteLimit": 2048000,
      "rowLimit": 10000
     },
     "inputWidgets": {},
     "nuid": "8e58534d-8471-4e3c-88a9-1fd2397f63ae",
     "showTitle": false,
     "title": ""
    }
   },
   "outputs": [
    {
     "output_type": "execute_result",
     "data": {
      "text/plain": [
       "DataFrame[]"
      ]
     },
     "execution_count": 1,
     "metadata": {},
     "output_type": "execute_result"
    }
   ],
   "source": [
    "# Creating staging tables\n",
    "\n",
    "# Creating staging_payments\n",
    "if(spark._jsparkSession.catalog().tableExists('default', 'staging_payments') == True):\n",
    "    spark.sql(\"DROP TABLE IF EXISTS staging_payments\")\n",
    "spark.sql(\"CREATE TABLE staging_payments USING DELTA LOCATION '/delta/payments'\")\n",
    "\n",
    "# Creating staging_riders\n",
    "if(spark._jsparkSession.catalog().tableExists('default', 'staging_riders') == True):\n",
    "    spark.sql(\"DROP TABLE IF EXISTS staging_riders\")\n",
    "spark.sql(\"CREATE TABLE staging_riders USING DELTA LOCATION '/delta/riders'\")\n",
    "\n",
    "# Creating staging_stations\n",
    "if(spark._jsparkSession.catalog().tableExists('default', 'staging_stations') == True):\n",
    "    spark.sql(\"DROP TABLE IF EXISTS staging_stations\")    \n",
    "spark.sql(\"CREATE TABLE staging_stations USING DELTA LOCATION '/delta/stations'\")\n",
    "\n",
    "# Creating staging_trips\n",
    "if(spark._jsparkSession.catalog().tableExists('default', 'staging_trips') == True):\n",
    "    spark.sql(\"DROP TABLE IF EXISTS staging_trips\")\n",
    "spark.sql(\"CREATE TABLE staging_trips USING DELTA LOCATION '/delta/trips'\")\n",
    "     \n",
    "\n"
   ]
  }
 ],
 "metadata": {
  "application/vnd.databricks.v1+notebook": {
   "dashboards": [],
   "language": "python",
   "notebookMetadata": {
    "pythonIndentUnit": 4
   },
   "notebookName": "Load",
   "widgets": {}
  }
 },
 "nbformat": 4,
 "nbformat_minor": 0
}
